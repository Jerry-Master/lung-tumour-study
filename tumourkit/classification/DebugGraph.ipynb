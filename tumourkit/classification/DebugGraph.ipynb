{
 "cells": [
  {
   "cell_type": "code",
   "execution_count": 1,
   "id": "1bc26245",
   "metadata": {},
   "outputs": [
    {
     "name": "stderr",
     "output_type": "stream",
     "text": [
      "/Users/joseperezcano/Desktop/CFIS Quinto Curso/TFG/pulmon/lib/python3.10/site-packages/tqdm/auto.py:22: TqdmWarning: IProgress not found. Please update jupyter and ipywidgets. See https://ipywidgets.readthedocs.io/en/stable/user_install.html\n",
      "  from .autonotebook import tqdm as notebook_tqdm\n"
     ]
    }
   ],
   "source": [
    "from read_graph import GraphDataset"
   ]
  },
  {
   "cell_type": "code",
   "execution_count": 2,
   "id": "c364bde0",
   "metadata": {},
   "outputs": [],
   "source": [
    "gd = GraphDataset(node_dir = '../../Data/train/graphs/', max_degree = 10, max_dist = 200)"
   ]
  },
  {
   "cell_type": "code",
   "execution_count": 8,
   "id": "2ab54306",
   "metadata": {},
   "outputs": [
    {
     "data": {
      "text/plain": [
       "'(H&E), VH22B003587A012001 (x=27625.0, y=56085.0, w=1024.0, h=1024.0)'"
      ]
     },
     "execution_count": 8,
     "metadata": {},
     "output_type": "execute_result"
    }
   ],
   "source": [
    "gd.node_names[1]"
   ]
  },
  {
   "cell_type": "code",
   "execution_count": 9,
   "id": "d7da258d",
   "metadata": {},
   "outputs": [],
   "source": [
    "import networkx as nx\n",
    "import dgl\n",
    "k = 1\n",
    "g = gd[k]\n",
    "nx.write_gml(dgl.to_networkx(g), gd.node_names[k] + '.gml')"
   ]
  },
  {
   "cell_type": "code",
   "execution_count": 14,
   "id": "78199821",
   "metadata": {},
   "outputs": [
    {
     "data": {
      "text/plain": [
       "torch.optim.adam.Adam"
      ]
     },
     "execution_count": 14,
     "metadata": {},
     "output_type": "execute_result"
    }
   ],
   "source": [
    "import torch\n",
    "model = torch.nn.Sequential(torch.nn.Linear(3,3))\n",
    "type(torch.optim.Adam(model.parameters(), lr=0.001))"
   ]
  },
  {
   "cell_type": "code",
   "execution_count": 5,
   "id": "e9d03b3b",
   "metadata": {},
   "outputs": [
    {
     "data": {
      "text/plain": [
       "(tensor([  0,   0,   0,  ..., 343, 343, 343]),\n",
       " tensor([13,  7, 24,  ..., 92, 80, 72]))"
      ]
     },
     "execution_count": 5,
     "metadata": {},
     "output_type": "execute_result"
    }
   ],
   "source": [
    "g.edges()"
   ]
  },
  {
   "cell_type": "code",
   "execution_count": 6,
   "id": "a3f12cf5",
   "metadata": {},
   "outputs": [
    {
     "data": {
      "text/plain": [
       "tensor([[31.0000],\n",
       "        [61.6847],\n",
       "        [64.4748],\n",
       "        ...,\n",
       "        [60.8769],\n",
       "        [61.1310],\n",
       "        [71.3092]])"
      ]
     },
     "execution_count": 6,
     "metadata": {},
     "output_type": "execute_result"
    }
   ],
   "source": [
    "g.edata['dist']"
   ]
  },
  {
   "cell_type": "code",
   "execution_count": 5,
   "id": "2e03131c",
   "metadata": {},
   "outputs": [],
   "source": [
    "import sys\n",
    "import os\n",
    "\n",
    "PKG_DIR = os.path.dirname(os.path.dirname('./'))\n",
    "sys.path.append(PKG_DIR)"
   ]
  },
  {
   "cell_type": "code",
   "execution_count": 6,
   "id": "4d998539",
   "metadata": {},
   "outputs": [],
   "source": [
    "from utils.nearest import generate_tree"
   ]
  },
  {
   "cell_type": "code",
   "execution_count": 7,
   "id": "60be3344",
   "metadata": {},
   "outputs": [],
   "source": [
    "tree = generate_tree(zip([1,2,3,4], [3,56,3,2,]))"
   ]
  },
  {
   "cell_type": "code",
   "execution_count": 10,
   "id": "df5f197f",
   "metadata": {},
   "outputs": [
    {
     "data": {
      "text/plain": [
       "(array([ 1.        ,  1.        ,  3.        , 53.03772242,         inf]),\n",
       " array([3, 2, 0, 1, 4]))"
      ]
     },
     "execution_count": 10,
     "metadata": {},
     "output_type": "execute_result"
    }
   ],
   "source": [
    "tree.query([4,3], k=5)"
   ]
  },
  {
   "cell_type": "code",
   "execution_count": 9,
   "id": "1f6017ba",
   "metadata": {},
   "outputs": [
    {
     "data": {
      "text/plain": [
       "array([[ 1.,  3.],\n",
       "       [ 2., 56.],\n",
       "       [ 3.,  3.],\n",
       "       [ 4.,  2.]])"
      ]
     },
     "execution_count": 9,
     "metadata": {},
     "output_type": "execute_result"
    }
   ],
   "source": [
    "tree.data"
   ]
  },
  {
   "cell_type": "code",
   "execution_count": 19,
   "id": "609161e9",
   "metadata": {},
   "outputs": [
    {
     "name": "stdout",
     "output_type": "stream",
     "text": [
      "[(1, 1), (3, 2)]\n"
     ]
    },
    {
     "data": {
      "text/plain": [
       "2"
      ]
     },
     "execution_count": 19,
     "metadata": {},
     "output_type": "execute_result"
    }
   ],
   "source": [
    "from itertools import tee\n",
    "\n",
    "dists = [1,2,3,4]\n",
    "idx = [1,5,2,5]\n",
    "tmp = list(filter(lambda x: x[1] < 3, zip(dists, idx)))\n",
    "print(tmp)\n",
    "tmp1, tmp2 = tee(tmp)\n",
    "aux1, aux2 = list(x[0] for x in tmp1), list(x[1] for x in tmp2)\n",
    "len(aux1)"
   ]
  },
  {
   "cell_type": "code",
   "execution_count": null,
   "id": "4cc0364d",
   "metadata": {},
   "outputs": [],
   "source": []
  }
 ],
 "metadata": {
  "kernelspec": {
   "display_name": "pulmon",
   "language": "python",
   "name": "python3"
  },
  "language_info": {
   "codemirror_mode": {
    "name": "ipython",
    "version": 3
   },
   "file_extension": ".py",
   "mimetype": "text/x-python",
   "name": "python",
   "nbconvert_exporter": "python",
   "pygments_lexer": "ipython3",
   "version": "3.10.9"
  },
  "vscode": {
   "interpreter": {
    "hash": "ada623e582efe93b8edd3cc0cc9b7148bf353416d51edc87ae48ebb8e286c2fc"
   }
  }
 },
 "nbformat": 4,
 "nbformat_minor": 5
}
